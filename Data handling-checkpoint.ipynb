{
 "cells": [
  {
   "cell_type": "code",
   "execution_count": 29,
   "id": "9433e0c3",
   "metadata": {},
   "outputs": [
    {
     "name": "stdout",
     "output_type": "stream",
     "text": [
      "We need information about the Actual amount, Current month sales, Last year sales, Forecast amount, profit or loss for forecast amount and actual amount, MTD and YTD for last year and for current year.  All these information is required for the following companies Influenza (Flu) and COVID-19 are both contagious respiratory illnesses, but they are caused by different viruses. \n",
      "\n",
      "COVID-19 is caused by infection with a coronavirus named SARS-CoV-2, and flu is caused by infection with influenza viruses[1]. You cannot tell the difference between flu and COVID-19 by symptoms alone because some of the symptoms are the same. \n",
      "\n",
      "Some PCR tests can differentiate between flu and COVID-19 at the same time. If one of these tests is not available, many testing locations provide flu and COVID-19 tests separately. Talk to a healthcare provider about getting tested for both flu and COVID-19 if you have symptoms.\n"
     ]
    }
   ],
   "source": [
    "fd =open('54 Capital Sales Report.txt','r')\n",
    "txt1=fd.read()\n",
    "print(txt1)"
   ]
  },
  {
   "cell_type": "code",
   "execution_count": 30,
   "id": "327c205f",
   "metadata": {},
   "outputs": [
    {
     "name": "stdout",
     "output_type": "stream",
     "text": [
      "We need information about the Actual amount, Current month sales, Last year sales, Forecast amount, profit or loss for forecast amount and actual amount, MTD and YTD for last year and for current year.  All these information is required for the following companies Influenza (Flu) and COVID-19 are both contagious respiratory illnesses, but they are caused by different viruses. \n",
      "\n",
      "COVID-19 is caused by infection with a coronavirus named SARS-CoV-2, and flu is caused by infection with influenza viruses[1]. You cannot tell the difference between flu and COVID-19 by symptoms alone because some of the symptoms are the same. \n",
      "\n",
      "Some PCR tests can differentiate between flu and COVID-19 at the same time. If one of these tests is not available, many testing locations provide flu and COVID-19 tests separately. Talk to a healthcare provider about getting tested for both flu and COVID-19 if you have symptoms.\n"
     ]
    }
   ],
   "source": [
    "print(txt1)\n"
   ]
  },
  {
   "cell_type": "code",
   "execution_count": 32,
   "id": "50dd51aa",
   "metadata": {},
   "outputs": [
    {
     "name": "stdout",
     "output_type": "stream",
     "text": [
      "We need information about the Actual amount, Current month sales, Last year sales, Forecast amount, profit or loss for forecast amount and actual amount, MTD and YTD for last year and for current year.  All these information is required for the following companies Influenza (Flu) and COVID-19 are both contagious respiratory illnesses, but they are caused by different viruses. \n",
      "\n",
      "COVID-19 is caused by infection with a coronavirus named SARS-CoV-2, and flu is caused by infection with influenza viruses . You cannot tell the difference between flu and COVID-19 by symptoms alone because some of the symptoms are the same. \n",
      "\n",
      "Some PCR tests can differentiate between flu and COVID-19 at the same time. If one of these tests is not available, many testing locations provide flu and COVID-19 tests separately. Talk to a healthcare provider about getting tested for both flu and COVID-19 if you have symptoms.\n"
     ]
    }
   ],
   "source": [
    "print(txt1.replace(\"[1]\",\" \"))"
   ]
  },
  {
   "cell_type": "code",
   "execution_count": 14,
   "id": "c71a4a3b",
   "metadata": {},
   "outputs": [
    {
     "data": {
      "text/plain": [
       "'We need information about the Actual amount, Current month sales, Last year sales, Forecast amount, profit or loss for forecast amount and actual amount, MTD and YTD for last year and for current year.  All these information is required for the following companies\\n\\nInfluenza (Flu) and COVID-19 are both contagious respiratory illnesses, but they are caused by different viruses. COVID-19 is caused by infection with a coronavirus named SARS-CoV-2, and flu is caused by infection with influenza viruses. You cannot tell the difference between flu and COVID-19 by symptoms alone because some of the symptoms are the same. \\n\\nSome PCR tests can differentiate between flu and COVID-19 at the same time. If one of these tests is not available, many testing locations provide flu and COVID-19 tests separately. Talk to a healthcare provider about getting tested for both flu and COVID-19 if you have symptoms.'"
      ]
     },
     "execution_count": 14,
     "metadata": {},
     "output_type": "execute_result"
    }
   ],
   "source": [
    "txt1\n"
   ]
  },
  {
   "cell_type": "code",
   "execution_count": 17,
   "id": "5a7bb463",
   "metadata": {},
   "outputs": [
    {
     "data": {
      "text/plain": [
       "['We need information about the Actual amount, Current month sales, Last year sales, Forecast amount, profit or loss for forecast amount and actual amount, MTD and YTD for last year and for current year.  All these information is required for the following companies',\n",
       " 'Influenza (Flu) and COVID-19 are both contagious respiratory illnesses, but they are caused by different viruses. COVID-19 is caused by infection with a coronavirus named SARS-CoV-2, and flu is caused by infection with influenza viruses. You cannot tell the difference between flu and COVID-19 by symptoms alone because some of the symptoms are the same. ',\n",
       " 'Some PCR tests can differentiate between flu and COVID-19 at the same time. If one of these tests is not available, many testing locations provide flu and COVID-19 tests separately. Talk to a healthcare provider about getting tested for both flu and COVID-19 if you have symptoms.']"
      ]
     },
     "execution_count": 17,
     "metadata": {},
     "output_type": "execute_result"
    }
   ],
   "source": [
    "txt1.split(\"\\n\\n\")"
   ]
  },
  {
   "cell_type": "code",
   "execution_count": 19,
   "id": "2128113a",
   "metadata": {},
   "outputs": [],
   "source": [
    "per=txt1.split(\"\\n\\n\")"
   ]
  },
  {
   "cell_type": "code",
   "execution_count": 20,
   "id": "3f5bec67",
   "metadata": {},
   "outputs": [
    {
     "data": {
      "text/plain": [
       "3"
      ]
     },
     "execution_count": 20,
     "metadata": {},
     "output_type": "execute_result"
    }
   ],
   "source": [
    "len(per)"
   ]
  },
  {
   "cell_type": "code",
   "execution_count": 22,
   "id": "3f92bb67",
   "metadata": {},
   "outputs": [
    {
     "data": {
      "text/plain": [
       "['We need information about the Actual amount, Current month sales, Last year sales, Forecast amount, profit or loss for forecast amount and actual amount, MTD and YTD for last year and for current year',\n",
       " '  All these information is required for the following companies\\n\\nInfluenza (Flu) and COVID-19 are both contagious respiratory illnesses, but they are caused by different viruses',\n",
       " ' COVID-19 is caused by infection with a coronavirus named SARS-CoV-2, and flu is caused by infection with influenza viruses',\n",
       " ' You cannot tell the difference between flu and COVID-19 by symptoms alone because some of the symptoms are the same',\n",
       " ' \\n\\nSome PCR tests can differentiate between flu and COVID-19 at the same time',\n",
       " ' If one of these tests is not available, many testing locations provide flu and COVID-19 tests separately',\n",
       " ' Talk to a healthcare provider about getting tested for both flu and COVID-19 if you have symptoms',\n",
       " '']"
      ]
     },
     "execution_count": 22,
     "metadata": {},
     "output_type": "execute_result"
    }
   ],
   "source": [
    "txt1.split(\".\")"
   ]
  },
  {
   "cell_type": "code",
   "execution_count": 23,
   "id": "40cd9947",
   "metadata": {},
   "outputs": [],
   "source": [
    "line=txt1.split(\".\")"
   ]
  },
  {
   "cell_type": "code",
   "execution_count": 27,
   "id": "bce20084",
   "metadata": {},
   "outputs": [
    {
     "data": {
      "text/plain": [
       "7"
      ]
     },
     "execution_count": 27,
     "metadata": {},
     "output_type": "execute_result"
    }
   ],
   "source": [
    "len(line[:-1])"
   ]
  },
  {
   "cell_type": "code",
   "execution_count": 26,
   "id": "13dc789e",
   "metadata": {},
   "outputs": [
    {
     "data": {
      "text/plain": [
       "145"
      ]
     },
     "execution_count": 26,
     "metadata": {},
     "output_type": "execute_result"
    }
   ],
   "source": [
    "len(txt1.split(\" \"))"
   ]
  },
  {
   "cell_type": "code",
   "execution_count": 36,
   "id": "52ab4e19",
   "metadata": {},
   "outputs": [],
   "source": [
    "fd=open(\"Data.txt\",\"w\")\n",
    "fd.write(\"hello i'm a sweet boy\")\n",
    "fd.close()"
   ]
  },
  {
   "cell_type": "code",
   "execution_count": 42,
   "id": "77fa311e",
   "metadata": {},
   "outputs": [],
   "source": [
    "fd=open(\"Data.txt\",\"a\")\n",
    "fd.write(\" bye bye.\")\n",
    "fd.close()"
   ]
  },
  {
   "cell_type": "code",
   "execution_count": 55,
   "id": "8ec1304b",
   "metadata": {},
   "outputs": [],
   "source": [
    "fd=open('Inventory.txt','w')\n",
    "fd.close()"
   ]
  },
  {
   "cell_type": "code",
   "execution_count": 2,
   "id": "587a247d",
   "metadata": {},
   "outputs": [],
   "source": [
    "fd=open('Inventory.txt','r')\n",
    "txt=fd.read()\n",
    "fd.close()"
   ]
  },
  {
   "cell_type": "code",
   "execution_count": 3,
   "id": "eb1533f1",
   "metadata": {},
   "outputs": [
    {
     "data": {
      "text/plain": [
       "'1,5 Star,5,100\\n2,Milky Bar,5,100\\n3,Cake,300,5\\n4,Candy,1,200'"
      ]
     },
     "execution_count": 3,
     "metadata": {},
     "output_type": "execute_result"
    }
   ],
   "source": [
    "txt"
   ]
  },
  {
   "cell_type": "code",
   "execution_count": 4,
   "id": "b03237e3",
   "metadata": {},
   "outputs": [
    {
     "data": {
      "text/plain": [
       "['1,5 Star,5,100', '2,Milky Bar,5,100', '3,Cake,300,5', '4,Candy,1,200']"
      ]
     },
     "execution_count": 4,
     "metadata": {},
     "output_type": "execute_result"
    }
   ],
   "source": [
    "txt.split(\"\\n\")"
   ]
  },
  {
   "cell_type": "markdown",
   "id": "2db291e6",
   "metadata": {},
   "source": [
    "same as In[2]"
   ]
  },
  {
   "cell_type": "code",
   "execution_count": 8,
   "id": "11db27e2",
   "metadata": {},
   "outputs": [],
   "source": [
    "fd=open('Inventory.txt','r')\n",
    "products=fd.read().split('\\n')\n",
    "fd.close()"
   ]
  },
  {
   "cell_type": "code",
   "execution_count": 9,
   "id": "3bb0a31b",
   "metadata": {},
   "outputs": [
    {
     "data": {
      "text/plain": [
       "['1,5 Star,5,100', '2,Milky Bar,5,100', '3,Cake,300,5', '4,Candy,1,200']"
      ]
     },
     "execution_count": 9,
     "metadata": {},
     "output_type": "execute_result"
    }
   ],
   "source": [
    "products"
   ]
  },
  {
   "cell_type": "code",
   "execution_count": 11,
   "id": "68175a7c",
   "metadata": {},
   "outputs": [
    {
     "name": "stdout",
     "output_type": "stream",
     "text": [
      "1,5 Star,5,100\n",
      "['1', '5 Star', '5', '100']\n",
      "2,Milky Bar,5,100\n",
      "['2', 'Milky Bar', '5', '100']\n",
      "3,Cake,300,5\n",
      "['3', 'Cake', '300', '5']\n",
      "4,Candy,1,200\n",
      "['4', 'Candy', '1', '200']\n"
     ]
    }
   ],
   "source": [
    "for product in products:\n",
    "    print(product)\n",
    "    print(product.split(','))"
   ]
  },
  {
   "cell_type": "code",
   "execution_count": 12,
   "id": "c4bf3338",
   "metadata": {},
   "outputs": [
    {
     "name": "stdout",
     "output_type": "stream",
     "text": [
      "1\n",
      "2\n",
      "3\n",
      "4\n"
     ]
    }
   ],
   "source": [
    "for product in products:\n",
    "    print(product.split(',')[0])"
   ]
  },
  {
   "cell_type": "code",
   "execution_count": 22,
   "id": "9001a7a5",
   "metadata": {},
   "outputs": [
    {
     "name": "stdout",
     "output_type": "stream",
     "text": [
      "enter product id:1\n",
      "1,5 Star,5,100\n"
     ]
    }
   ],
   "source": [
    "input_id=input(\"enter product id:\")\n",
    "for product in products:\n",
    "    if(product.split(',')[0])==input_id:\n",
    "        print(product)"
   ]
  },
  {
   "cell_type": "code",
   "execution_count": 24,
   "id": "5c0e537b",
   "metadata": {},
   "outputs": [
    {
     "name": "stdout",
     "output_type": "stream",
     "text": [
      "enter product id:1\n",
      "Enter quan:2\n",
      "----------------------------------------\n",
      "product name         : 5 Star\n",
      "product quantity     : 2\n",
      "product prize        : 5\n",
      "----------------------------------------\n",
      "Biling Amount        : 10\n"
     ]
    }
   ],
   "source": [
    "input_id=input(\"enter product id:\")\n",
    "input_qn=input(\"Enter quan:\")\n",
    "for product in products:\n",
    "    product_detail=product.split(',')\n",
    "    if(product_detail[0])==input_id:\n",
    "        print('----------------------------------------')\n",
    "        print('product name         :',product_detail[1])\n",
    "        print('product quantity     :',input_qn)\n",
    "        print('product prize        :',product_detail[2])\n",
    "        print('----------------------------------------')\n",
    "        print('Biling Amount        :',int(input_qn)*int(product_detail[2]))"
   ]
  },
  {
   "cell_type": "code",
   "execution_count": 28,
   "id": "1a70aabd",
   "metadata": {},
   "outputs": [
    {
     "name": "stdout",
     "output_type": "stream",
     "text": [
      "enter product id:1\n",
      "Enter quan:2\n",
      "----------------------------------------\n",
      "product name         : 5 Star\n",
      "product quantity     : 2\n",
      "product prize        : 5\n",
      "----------------------------------------\n",
      "Biling Amount        : 10\n",
      "----------------------------------------\n"
     ]
    }
   ],
   "source": [
    "input_id=input(\"enter product id:\")\n",
    "input_qn=input(\"Enter quan:\")\n",
    "updated_products_lst=[]\n",
    "for product in products:\n",
    "    product_detail=product.split(',')\n",
    "    if(product_detail[0])==input_id:\n",
    "        print('----------------------------------------')\n",
    "        print('product name         :',product_detail[1])\n",
    "        print('product quantity     :',input_qn)\n",
    "        print('product prize        :',product_detail[2])\n",
    "        print('----------------------------------------')\n",
    "        print('Biling Amount        :',int(input_qn)*int(product_detail[2]))\n",
    "        print('----------------------------------------')\n",
    "        product_detail[3]= str(int(product_detail[3])-int(input_qn))\n",
    "    updated_products_lst.append(product_detail)"
   ]
  },
  {
   "cell_type": "code",
   "execution_count": 34,
   "id": "93eafef9",
   "metadata": {},
   "outputs": [
    {
     "name": "stdout",
     "output_type": "stream",
     "text": [
      "['1', '5 Star', '5', '98']\n",
      "['2', 'Milky Bar', '5', '100']\n",
      "['3', 'Cake', '300', '5']\n",
      "['4', 'Candy', '1', '200']\n"
     ]
    }
   ],
   "source": [
    "for i in updated_products_lst:\n",
    "    print(i)"
   ]
  },
  {
   "cell_type": "code",
   "execution_count": 36,
   "id": "b8de6e70",
   "metadata": {},
   "outputs": [
    {
     "name": "stdout",
     "output_type": "stream",
     "text": [
      "enter product id:1\n",
      "Enter quan:2\n",
      "----------------------------------------\n",
      "product name         : 5 Star\n",
      "product quantity     : 2\n",
      "product prize        : 5\n",
      "----------------------------------------\n",
      "Biling Amount        : 10\n",
      "----------------------------------------\n"
     ]
    },
    {
     "ename": "IndexError",
     "evalue": "list index out of range",
     "output_type": "error",
     "traceback": [
      "\u001b[1;31m---------------------------------------------------------------------------\u001b[0m",
      "\u001b[1;31mIndexError\u001b[0m                                Traceback (most recent call last)",
      "Input \u001b[1;32mIn [36]\u001b[0m, in \u001b[0;36m<cell line: 21>\u001b[1;34m()\u001b[0m\n\u001b[0;32m     20\u001b[0m fd\u001b[38;5;241m=\u001b[39m\u001b[38;5;28mopen\u001b[39m(\u001b[38;5;124m'\u001b[39m\u001b[38;5;124mInventory.txt\u001b[39m\u001b[38;5;124m'\u001b[39m,\u001b[38;5;124m'\u001b[39m\u001b[38;5;124mw\u001b[39m\u001b[38;5;124m'\u001b[39m)\n\u001b[0;32m     21\u001b[0m \u001b[38;5;28;01mfor\u001b[39;00m i \u001b[38;5;129;01min\u001b[39;00m updated_products_lst:\n\u001b[1;32m---> 22\u001b[0m     prod\u001b[38;5;241m=\u001b[39mi[\u001b[38;5;241m0\u001b[39m]\u001b[38;5;241m+\u001b[39m\u001b[38;5;124m\"\u001b[39m\u001b[38;5;124m,\u001b[39m\u001b[38;5;124m\"\u001b[39m\u001b[38;5;241m+\u001b[39m\u001b[43mi\u001b[49m\u001b[43m[\u001b[49m\u001b[38;5;241;43m1\u001b[39;49m\u001b[43m]\u001b[49m\u001b[38;5;241m+\u001b[39m\u001b[38;5;124m\"\u001b[39m\u001b[38;5;124m,\u001b[39m\u001b[38;5;124m\"\u001b[39m\u001b[38;5;241m+\u001b[39mi[\u001b[38;5;241m2\u001b[39m]\u001b[38;5;241m+\u001b[39m\u001b[38;5;124m\"\u001b[39m\u001b[38;5;124m,\u001b[39m\u001b[38;5;124m\"\u001b[39m\u001b[38;5;241m+\u001b[39mi[\u001b[38;5;241m3\u001b[39m]\u001b[38;5;241m+\u001b[39m\u001b[38;5;124m\"\u001b[39m\u001b[38;5;130;01m\\n\u001b[39;00m\u001b[38;5;124m\"\u001b[39m\n\u001b[0;32m     23\u001b[0m     fd\u001b[38;5;241m.\u001b[39mwrite(prod)\n\u001b[0;32m     24\u001b[0m fd\u001b[38;5;241m.\u001b[39mclose()\n",
      "\u001b[1;31mIndexError\u001b[0m: list index out of range"
     ]
    }
   ],
   "source": [
    "fd=open('Inventory.txt','r')\n",
    "products=fd.read().split('\\n')\n",
    "fd.close()\n",
    "input_id=input(\"enter product id:\")\n",
    "input_qn=input(\"Enter quan:\")\n",
    "updated_products_lst=[]\n",
    "for product in products:\n",
    "    product_detail=product.split(',')\n",
    "    if(product_detail[0])==input_id:\n",
    "        print('----------------------------------------')\n",
    "        print('product name         :',product_detail[1])\n",
    "        print('product quantity     :',input_qn)\n",
    "        print('product prize        :',product_detail[2])\n",
    "        print('----------------------------------------')\n",
    "        print('Biling Amount        :',int(input_qn)*int(product_detail[2]))\n",
    "        print('----------------------------------------')\n",
    "        product_detail[3]= str(int(product_detail[3])-int(input_qn))\n",
    "    updated_products_lst.append(product_detail)\n",
    "\n",
    "fd=open('Inventory.txt','w')\n",
    "for i in updated_products_lst:\n",
    "    prod=i[0]+\",\"+i[1]+\",\"+i[2]+\",\"+i[3]+\"\\n\"\n",
    "    fd.write(prod)\n",
    "fd.close()    "
   ]
  },
  {
   "cell_type": "code",
   "execution_count": 38,
   "id": "7a582323",
   "metadata": {},
   "outputs": [
    {
     "name": "stdout",
     "output_type": "stream",
     "text": [
      "enter product id:3\n",
      "Enter quan:5\n",
      "----------------------------------------\n",
      "product name         : Cake\n",
      "product quantity     : 5\n",
      "product prize        : 300\n",
      "----------------------------------------\n",
      "Biling Amount        : 1500\n",
      "----------------------------------------\n"
     ]
    },
    {
     "ename": "IndexError",
     "evalue": "list index out of range",
     "output_type": "error",
     "traceback": [
      "\u001b[1;31m---------------------------------------------------------------------------\u001b[0m",
      "\u001b[1;31mIndexError\u001b[0m                                Traceback (most recent call last)",
      "Input \u001b[1;32mIn [38]\u001b[0m, in \u001b[0;36m<cell line: 20>\u001b[1;34m()\u001b[0m\n\u001b[0;32m     19\u001b[0m lst\u001b[38;5;241m=\u001b[39m[]\n\u001b[0;32m     20\u001b[0m \u001b[38;5;28;01mfor\u001b[39;00m i \u001b[38;5;129;01min\u001b[39;00m updated_products_lst:\n\u001b[1;32m---> 21\u001b[0m     prod\u001b[38;5;241m=\u001b[39mi[\u001b[38;5;241m0\u001b[39m]\u001b[38;5;241m+\u001b[39m\u001b[38;5;124m\"\u001b[39m\u001b[38;5;124m,\u001b[39m\u001b[38;5;124m\"\u001b[39m\u001b[38;5;241m+\u001b[39m\u001b[43mi\u001b[49m\u001b[43m[\u001b[49m\u001b[38;5;241;43m1\u001b[39;49m\u001b[43m]\u001b[49m\u001b[38;5;241m+\u001b[39m\u001b[38;5;124m\"\u001b[39m\u001b[38;5;124m,\u001b[39m\u001b[38;5;124m\"\u001b[39m\u001b[38;5;241m+\u001b[39mi[\u001b[38;5;241m2\u001b[39m]\u001b[38;5;241m+\u001b[39m\u001b[38;5;124m\"\u001b[39m\u001b[38;5;124m,\u001b[39m\u001b[38;5;124m\"\u001b[39m\u001b[38;5;241m+\u001b[39mi[\u001b[38;5;241m3\u001b[39m]\u001b[38;5;241m+\u001b[39m\u001b[38;5;124m\"\u001b[39m\u001b[38;5;130;01m\\n\u001b[39;00m\u001b[38;5;124m\"\u001b[39m\n\u001b[0;32m     22\u001b[0m     lst\u001b[38;5;241m.\u001b[39mappend(prod)\n\u001b[0;32m     23\u001b[0m \u001b[38;5;28mlist\u001b[39m[\u001b[38;5;241m-\u001b[39m\u001b[38;5;241m1\u001b[39m]\u001b[38;5;241m=\u001b[39mlst[\u001b[38;5;241m-\u001b[39m\u001b[38;5;241m1\u001b[39m][:\u001b[38;5;241m-\u001b[39m\u001b[38;5;241m1\u001b[39m]    \n",
      "\u001b[1;31mIndexError\u001b[0m: list index out of range"
     ]
    }
   ],
   "source": [
    "fd=open('Inventory.txt','r')\n",
    "products=fd.read().split('\\n')\n",
    "fd.close()\n",
    "\n",
    "\n",
    "input_id=input(\"enter product id:\")\n",
    "input_qn=input(\"Enter quan:\")\n",
    "\n",
    "updated_products_lst=[]\n",
    "for product in products:\n",
    "    product_detail=product.split(',')\n",
    "    if(product_detail[0])==input_id:\n",
    "        print('----------------------------------------')\n",
    "        print('product name         :',product_detail[1])\n",
    "        print('product quantity     :',input_qn)\n",
    "        print('product prize        :',product_detail[2])\n",
    "        print('----------------------------------------')\n",
    "        print('Biling Amount        :',int(input_qn)*int(product_detail[2]))\n",
    "        print('----------------------------------------')\n",
    "        product_detail[3]= str(int(product_detail[3])-int(input_qn))\n",
    "    updated_products_lst.append(product_detail)\n",
    "lst=[]\n",
    "for i in updated_products_lst:\n",
    "    prod=i[0]+\",\"+i[1]+\",\"+i[2]+\",\"+i[3]+\"\\n\"\n",
    "    lst.append(prod)\n",
    "list[-1]=lst[-1][:-1]    \n",
    "fd=open('Inventory.txt','w')\n",
    "for i in lst:\n",
    "    fd.write(i)\n",
    "fd.close()    "
   ]
  },
  {
   "cell_type": "code",
   "execution_count": 39,
   "id": "3d7bacad",
   "metadata": {},
   "outputs": [
    {
     "name": "stdout",
     "output_type": "stream",
     "text": [
      "Enter product ID: 3\n",
      "Enter product Quantity: 5\n",
      "-----------------------------\n",
      "Product Name     :  Cake\n",
      "Price            :  300\n",
      "Quantity         :  5\n",
      "-----------------------------\n",
      "Billing Amount   :  1500\n",
      "-----------------------------\n"
     ]
    },
    {
     "ename": "IndexError",
     "evalue": "list index out of range",
     "output_type": "error",
     "traceback": [
      "\u001b[1;31m---------------------------------------------------------------------------\u001b[0m",
      "\u001b[1;31mIndexError\u001b[0m                                Traceback (most recent call last)",
      "Input \u001b[1;32mIn [39]\u001b[0m, in \u001b[0;36m<cell line: 32>\u001b[1;34m()\u001b[0m\n\u001b[0;32m     30\u001b[0m lst \u001b[38;5;241m=\u001b[39m []\n\u001b[0;32m     32\u001b[0m \u001b[38;5;28;01mfor\u001b[39;00m i \u001b[38;5;129;01min\u001b[39;00m updated_product_lst:\n\u001b[1;32m---> 33\u001b[0m     prod \u001b[38;5;241m=\u001b[39m i[\u001b[38;5;241m0\u001b[39m] \u001b[38;5;241m+\u001b[39m\u001b[38;5;124m\"\u001b[39m\u001b[38;5;124m,\u001b[39m\u001b[38;5;124m\"\u001b[39m\u001b[38;5;241m+\u001b[39m  \u001b[43mi\u001b[49m\u001b[43m[\u001b[49m\u001b[38;5;241;43m1\u001b[39;49m\u001b[43m]\u001b[49m \u001b[38;5;241m+\u001b[39m\u001b[38;5;124m\"\u001b[39m\u001b[38;5;124m,\u001b[39m\u001b[38;5;124m\"\u001b[39m\u001b[38;5;241m+\u001b[39m i[\u001b[38;5;241m2\u001b[39m] \u001b[38;5;241m+\u001b[39m\u001b[38;5;124m\"\u001b[39m\u001b[38;5;124m,\u001b[39m\u001b[38;5;124m\"\u001b[39m\u001b[38;5;241m+\u001b[39m i[\u001b[38;5;241m3\u001b[39m] \u001b[38;5;241m+\u001b[39m \u001b[38;5;124m'\u001b[39m\u001b[38;5;130;01m\\n\u001b[39;00m\u001b[38;5;124m'\u001b[39m\n\u001b[0;32m     34\u001b[0m     lst\u001b[38;5;241m.\u001b[39mappend(prod)\n\u001b[0;32m     36\u001b[0m lst[\u001b[38;5;241m-\u001b[39m\u001b[38;5;241m1\u001b[39m] \u001b[38;5;241m=\u001b[39m lst[\u001b[38;5;241m-\u001b[39m\u001b[38;5;241m1\u001b[39m][:\u001b[38;5;241m-\u001b[39m\u001b[38;5;241m1\u001b[39m]\n",
      "\u001b[1;31mIndexError\u001b[0m: list index out of range"
     ]
    }
   ],
   "source": [
    "fd = open('Inventory.txt','r')\n",
    "products = fd.read().split('\\n')\n",
    "fd.close()\n",
    "\n",
    "\n",
    "ui_prod_id = input(\"Enter product ID: \")\n",
    "ui_prod_qn = input(\"Enter product Quantity: \")\n",
    "\n",
    "updated_product_lst = []\n",
    "\n",
    "for product in products:\n",
    "    \n",
    "    prod_details = product.split(',')\n",
    "    \n",
    "    if(prod_details[0] == ui_prod_id):\n",
    "        print(\"-----------------------------\")\n",
    "        print(\"Product Name     : \", prod_details[1])\n",
    "        print(\"Price            : \", prod_details[2]) \n",
    "        print(\"Quantity         : \", ui_prod_qn) \n",
    "        print(\"-----------------------------\")\n",
    "        print(\"Billing Amount   : \", int(ui_prod_qn) * int(prod_details[2]))\n",
    "        print(\"-----------------------------\")\n",
    "        \n",
    "        prod_details[3] = str(int(prod_details[3]) - int(ui_prod_qn))\n",
    "        \n",
    "    updated_product_lst.append(prod_details)\n",
    "    \n",
    "\n",
    "    \n",
    "lst = []\n",
    "\n",
    "for i in updated_product_lst:\n",
    "    prod = i[0] +\",\"+  i[1] +\",\"+ i[2] +\",\"+ i[3] + '\\n'\n",
    "    lst.append(prod)\n",
    "\n",
    "lst[-1] = lst[-1][:-1]\n",
    "    \n",
    "fd = open('Inventory.txt','w')\n",
    "\n",
    "for i in lst:\n",
    "    fd.write(i)\n",
    "\n",
    "fd.close()"
   ]
  },
  {
   "cell_type": "code",
   "execution_count": 40,
   "id": "c7819acd",
   "metadata": {},
   "outputs": [],
   "source": [
    "fd = open('Inventory.txt','r')\n",
    "products = fd.read().split('\\n')\n",
    "fd.close()"
   ]
  },
  {
   "cell_type": "code",
   "execution_count": 41,
   "id": "08907fc9",
   "metadata": {},
   "outputs": [
    {
     "data": {
      "text/plain": [
       "['1,5 Star,5,100', '2,Milky Bar,5,100', '3,Cake,300,5', '4,Candy,1,200', '']"
      ]
     },
     "execution_count": 41,
     "metadata": {},
     "output_type": "execute_result"
    }
   ],
   "source": [
    "products\n"
   ]
  },
  {
   "cell_type": "code",
   "execution_count": 42,
   "id": "e50d97fc",
   "metadata": {},
   "outputs": [
    {
     "name": "stdout",
     "output_type": "stream",
     "text": [
      "4,Candy,1,200\n",
      "\n"
     ]
    }
   ],
   "source": [
    "print(lst[-1])"
   ]
  },
  {
   "cell_type": "code",
   "execution_count": 44,
   "id": "e3c21d31",
   "metadata": {},
   "outputs": [
    {
     "name": "stdout",
     "output_type": "stream",
     "text": [
      "['1,5 Star,5,100\\n', '2,Milky Bar,5,100\\n', '3,Cake,300,0\\n', '4,Candy,1,200\\n']\n"
     ]
    }
   ],
   "source": [
    "print(lst)"
   ]
  },
  {
   "cell_type": "code",
   "execution_count": 45,
   "id": "40522f82",
   "metadata": {},
   "outputs": [
    {
     "name": "stdout",
     "output_type": "stream",
     "text": [
      "1,5 Star,5,100\n",
      "\n",
      "2,Milky Bar,5,100\n",
      "\n",
      "3,Cake,300,0\n",
      "\n",
      "4,Candy,1,200\n",
      "\n"
     ]
    }
   ],
   "source": [
    "for i in lst:\n",
    "    print(i)"
   ]
  },
  {
   "cell_type": "code",
   "execution_count": 46,
   "id": "d58141e9",
   "metadata": {},
   "outputs": [
    {
     "name": "stdout",
     "output_type": "stream",
     "text": [
      "['1,5 Star,5,100\\n', '2,Milky Bar,5,100\\n', '3,Cake,300,0\\n', '4,Candy,1,200']\n"
     ]
    }
   ],
   "source": [
    "lst[-1]=lst[-1][:-1]\n",
    "print(lst)"
   ]
  },
  {
   "cell_type": "code",
   "execution_count": 47,
   "id": "ca0ae54f",
   "metadata": {},
   "outputs": [
    {
     "name": "stdout",
     "output_type": "stream",
     "text": [
      "1,5 Star,5,100\n",
      "\n",
      "2,Milky Bar,5,100\n",
      "\n",
      "3,Cake,300,0\n",
      "\n",
      "4,Candy,1,200\n"
     ]
    }
   ],
   "source": [
    "for i in lst:\n",
    "    print(i)"
   ]
  },
  {
   "cell_type": "code",
   "execution_count": 48,
   "id": "799f7698",
   "metadata": {},
   "outputs": [],
   "source": [
    "fd = open('Inventory.txt','r')\n",
    "products = fd.read().split('\\n')\n",
    "fd.close()"
   ]
  },
  {
   "cell_type": "code",
   "execution_count": 49,
   "id": "a03708cd",
   "metadata": {},
   "outputs": [
    {
     "data": {
      "text/plain": [
       "['1,5 Star,5,100', '2,Milky Bar,5,100', '3,Cake,300,5', '4,Candy,1,200']"
      ]
     },
     "execution_count": 49,
     "metadata": {},
     "output_type": "execute_result"
    }
   ],
   "source": [
    "products"
   ]
  },
  {
   "cell_type": "code",
   "execution_count": 52,
   "id": "b94a86d0",
   "metadata": {},
   "outputs": [
    {
     "name": "stdout",
     "output_type": "stream",
     "text": [
      "enter product id:1\n",
      "Enter quan:50\n",
      "----------------------------------------\n",
      "product name         : 5 Star\n",
      "product quantity     : 50\n",
      "product prize        : 5\n",
      "----------------------------------------\n",
      "Biling Amount        : 250\n",
      "----------------------------------------\n"
     ]
    }
   ],
   "source": [
    "fd = open('Inventory.txt','r')\n",
    "products = fd.read().split('\\n')\n",
    "fd.close()\n",
    "\n",
    "input_id=input(\"enter product id:\")\n",
    "input_qn=input(\"Enter quan:\")\n",
    "\n",
    "updated_products_lst=[]\n",
    "for product in products:\n",
    "    product_detail=product.split(',')\n",
    "    if(product_detail[0])==input_id:\n",
    "        print('----------------------------------------')\n",
    "        print('product name         :',product_detail[1])\n",
    "        print('product quantity     :',input_qn)\n",
    "        print('product prize        :',product_detail[2])\n",
    "        print('----------------------------------------')\n",
    "        print('Biling Amount        :',int(input_qn)*int(product_detail[2]))\n",
    "        print('----------------------------------------')\n",
    "        product_detail[3]= str(int(product_detail[3])-int(input_qn))\n",
    "    updated_products_lst.append(product_detail)\n",
    "lst=[]\n",
    "for i in updated_products_lst:\n",
    "    prod=i[0]+\",\"+i[1]+\",\"+i[2]+\",\"+i[3]+\"\\n\"\n",
    "    lst.append(prod)\n",
    "lst[-1]=lst[-1][:-1]    \n",
    "fd=open('Inventory.txt','w')\n",
    "for i in lst:\n",
    "    fd.write(i)\n",
    "fd.close()    "
   ]
  },
  {
   "cell_type": "code",
   "execution_count": 61,
   "id": "10a27138",
   "metadata": {},
   "outputs": [
    {
     "name": "stdout",
     "output_type": "stream",
     "text": [
      "Enter a username:hsh\n",
      "Enter a phone number883838\n",
      "Enter a email_iddsd\n",
      "enter product id:2\n",
      "Enter quan:105\n",
      "Sorry, We're not having enough quantity.\n",
      "We're having only 100 Quantity\n",
      "Would you like to purchase it?\n",
      "Press Y/Ny\n",
      "----------------------------------------\n",
      "product name         : Milky Bar\n",
      "product quantity     : 100\n",
      "product prize        : 5\n",
      "----------------------------------------\n",
      "Biling Amount        : 500\n",
      "----------------------------------------\n",
      "----------------------\n",
      "Inventory Updated\n"
     ]
    }
   ],
   "source": [
    "# Noting the time of trasection\n",
    "import time\n",
    "# Reading the Inventory\n",
    "fd = open('Inventory.txt','r')\n",
    "products = fd.read().split('\\n')\n",
    "fd.close()\n",
    "# Taking User Input\n",
    "ui_username=input(\"Enter a username:\")\n",
    "ui_phone=input(\"Enter a phone number\")\n",
    "ui_mail=input(\"Enter a email_id\")\n",
    "input_id=input(\"enter product id:\")\n",
    "input_qn=input(\"Enter quan:\")\n",
    "\n",
    "updated_products_lst=[]\n",
    "# Going through each product detail\n",
    "for product in products:\n",
    "    product_detail=product.split(',')\n",
    "    if(product_detail[0]==input_id):\n",
    "    # Checking if product exists or not\n",
    "        if(int(input_qn)<= int(product_detail[3])):\n",
    "        # If we're having enough quantity\n",
    "            print('----------------------------------------')\n",
    "            print('product name         :',product_detail[1])\n",
    "            print('product quantity     :',input_qn)\n",
    "            print('product prize        :',product_detail[2])\n",
    "            print('----------------------------------------')\n",
    "            print('Biling Amount        :',int(input_qn)*int(product_detail[2]))\n",
    "            print('----------------------------------------')\n",
    "            \n",
    "            # Updating Inventory list\n",
    "            product_detail[3]= str(int(product_detail[3])-int(input_qn))\n",
    "            \n",
    "            # Generating Sales in Sales.txt\n",
    "            fd=open('Saless.txt','a')\n",
    "            sales_detail=ui_username +','+ ui_phone +','+ ui_mail+','+ input_id +','+product_detail[1] +','+ input_qn +\",\"+ str(int(input_qn)*int(product_detail[2]))+\",\"+ time.ctime()+'\\n'\n",
    "            fd.write(sales_detail)\n",
    "            fd.close()\n",
    "            \n",
    "        else:\n",
    "         # If we're not having enough quantity    \n",
    "            print(\"Sorry, We're not having enough quantity.\" )\n",
    "            print(\"We're having only\",product_detail[3],'Quantity' )\n",
    "            print(\"Would you like to purchase it?\")\n",
    "            \n",
    "            ch =input(\"Press Y/N\")\n",
    "            \n",
    "            if(ch=='y' or ch=='Y'):\n",
    "            # If you want to purchase with remaining quantity    \n",
    "                print('----------------------------------------')\n",
    "                print('product name         :',product_detail[1])\n",
    "                print('product quantity     :',product_detail[3])\n",
    "                print('product prize        :',product_detail[2])\n",
    "                print('----------------------------------------')\n",
    "                print('Biling Amount        :',int(product_detail[3])*int(product_detail[2]))\n",
    "                print('----------------------------------------')\n",
    "                \n",
    "                # Generating Sales in Sales.txt\n",
    "                fd=open('Saless.txt','a')\n",
    "                sales_detail=ui_username +','+ ui_phone +','+ ui_mail+','+ input_id +','+product_detail[1] +','+ product_detail[3] +\",\"+ str(int(product_detail[3])*int(product_detail[2]))+\",\"+ time.ctime()+'\\n'\n",
    "                fd.write(sales_detail)\n",
    "                fd.close()\n",
    "                \n",
    "                # Updating Inventory list\n",
    "                product_detail[3]= '0'\n",
    "                \n",
    "            else:\n",
    "                print('Thanks')\n",
    "                \n",
    "    # Updating my Inventory List            \n",
    "    updated_products_lst.append(product_detail)\n",
    "\n",
    "lst=[]\n",
    "# Updating my Inventory String\n",
    "for i in updated_products_lst:\n",
    "    prod=i[0]+\",\"+i[1]+\",\"+i[2]+\",\"+i[3]+\"\\n\"\n",
    "    lst.append(prod)\n",
    "\n",
    "# Removing Last \\n from the list\n",
    "lst[-1]=lst[-1][:-1]    \n",
    "fd=open('Inventory.txt','w')\n",
    "# Updating Inventory File\n",
    "for i in lst:\n",
    "    fd.write(i)\n",
    "fd.close() \n",
    "print(\"----------------------\")\n",
    "print('Inventory Updated')"
   ]
  },
  {
   "cell_type": "code",
   "execution_count": null,
   "id": "c1fec483",
   "metadata": {},
   "outputs": [],
   "source": []
  }
 ],
 "metadata": {
  "kernelspec": {
   "display_name": "Python 3 (ipykernel)",
   "language": "python",
   "name": "python3"
  },
  "language_info": {
   "codemirror_mode": {
    "name": "ipython",
    "version": 3
   },
   "file_extension": ".py",
   "mimetype": "text/x-python",
   "name": "python",
   "nbconvert_exporter": "python",
   "pygments_lexer": "ipython3",
   "version": "3.9.12"
  }
 },
 "nbformat": 4,
 "nbformat_minor": 5
}
